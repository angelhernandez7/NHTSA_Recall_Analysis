{
 "cells": [
  {
   "cell_type": "markdown",
   "id": "13b58f52",
   "metadata": {
    "papermill": {
     "duration": 0.003846,
     "end_time": "2022-08-02T20:50:37.625673",
     "exception": false,
     "start_time": "2022-08-02T20:50:37.621827",
     "status": "completed"
    },
    "tags": []
   },
   "source": [
    "# NTHA Recall Analysis\n",
    "\n",
    "The purpose of this analysis is to summarize and better understand recall trends. This will help prepare for service disruptions caused by recall campaigns.\n",
    "Please see the summary of findings for an analysis of the data. The summary also includes steps for future analysis and modeling. The code and\n",
    "visualizations are provided here.\n",
    "\n",
    "Variable Name|Description\n",
    "--- | ---\n",
    "RECORD_ID|RUNNING SEQUENCE NUMBER, WHICH UNIQUELY IDENTIFIES THE RECORD.\n",
    "CAMPNO|NHTSA CAMPAIGN NUMBER\n",
    "MAKETXT|VEHICLE/EQUIPMENT MAKE\n",
    "MODELTXT|VEHICLE/EQUIPMENT MODEL\n",
    "YEARTXT|MODEL YEAR, 9999 IF UNKNOWN or NaN\n",
    "MFGCAMPNO|MFR CAMPAIGN NUMBER\n",
    "COMPNAME|COMPONENT DESCRIPTION\n",
    "MFGNAME|MANUFACTURER THAT FILED DEFECT/NONCOMPLIANCE REPORT\n",
    "BGMAN|BEGIN DATE OF MANUFACTURING\n",
    "ENDMAN|END DATE OF MANUFACTURING\n",
    "RCLTYPECD|VEHICLE, EQUIPMENT OR TIRE REPORT\n",
    "POTAFF|POTENTIAL NUMBER OF UNITS AFFECTED\n",
    "ODATE|DATE OWNER NOTIFIED BY MFR\n",
    "INFLUENCED_BY|RECALL INITIATOR (MFR/OVSC/ODI)\n",
    "MFGTXT|MANUFACTURERS OF RECALLED VEHICLES/PRODUCTS\n",
    "RCDATE|REPORT RECEIVED DATE\n",
    "DATEA|RECORD CREATION DATE\n",
    "RPNO|REGULATION PART NUMBER\n",
    "FMVSS|FEDERAL MOTOR VEHICLE SAFETY STANDARD NUMBER\n",
    "DESC_DEFECT|DEFECT SUMMARY\n",
    "CONEQUENCE_DEFECT|CONSEQUENCE SUMMARY\n",
    "CORRECTIVE_ACTION|CORRECTIVE SUMMARY\n",
    "NOTES|RECALL NOTES\n",
    "RCL_CMPT_ID|NUMBER THAT UNIQUELY IDENTIFIES A RECALLED COMPONENT.\n",
    "MFR_COMP_NAME|MANUFACTURER-SUPPLIED COMPONENT NAME\n",
    "MFR_COMP_DESC|MANUFACTURER-SUPPLIED COMPONENT DESCRIPTION\n",
    "MFR_COMP_PTNO|MANUFACTURER-SUPPLIED COMPONENT PART NUMBER"
   ]
  },
  {
   "cell_type": "code",
   "execution_count": 1,
   "id": "cb75377e",
   "metadata": {
    "execution": {
     "iopub.execute_input": "2022-08-02T20:50:37.634216Z",
     "iopub.status.busy": "2022-08-02T20:50:37.633366Z",
     "iopub.status.idle": "2022-08-02T20:50:46.472035Z",
     "shell.execute_reply": "2022-08-02T20:50:46.470609Z"
    },
    "papermill": {
     "duration": 8.846226,
     "end_time": "2022-08-02T20:50:46.474931",
     "exception": false,
     "start_time": "2022-08-02T20:50:37.628705",
     "status": "completed"
    },
    "tags": []
   },
   "outputs": [
    {
     "name": "stdout",
     "output_type": "stream",
     "text": [
      "Raw data dimensions:  (228580, 27) \n",
      "\n"
     ]
    }
   ],
   "source": [
    "from datetime import datetime as dt\n",
    "\n",
    "import numpy as np \n",
    "import pandas as pd\n",
    "\n",
    "import matplotlib.pyplot as plt\n",
    "import seaborn as sns\n",
    "import plotly.express as px\n",
    "\n",
    "pd.set_option('max_columns', None)\n",
    "# plt.rcParams('figure.figsize'\n",
    "# plt.rcParams('font.size') = 1\n",
    "\n",
    "# import data, using correct dtypes\n",
    "datecols = [8,9,12,15,16]\n",
    "\n",
    "file = '../input/vehicle-recall-data/FLAT_RCL.txt'\n",
    "raw = pd.read_csv(file, sep = '\\t',encoding = 'latin1',names=list(range(27)), low_memory=False, parse_dates=datecols)\n",
    "\n",
    "print('Raw data dimensions: ',raw.shape, '\\n')"
   ]
  },
  {
   "cell_type": "code",
   "execution_count": 2,
   "id": "6fccbf04",
   "metadata": {
    "execution": {
     "iopub.execute_input": "2022-08-02T20:50:46.483175Z",
     "iopub.status.busy": "2022-08-02T20:50:46.482433Z",
     "iopub.status.idle": "2022-08-02T20:50:46.618999Z",
     "shell.execute_reply": "2022-08-02T20:50:46.617278Z"
    },
    "papermill": {
     "duration": 0.14365,
     "end_time": "2022-08-02T20:50:46.621710",
     "exception": false,
     "start_time": "2022-08-02T20:50:46.478060",
     "status": "completed"
    },
    "tags": []
   },
   "outputs": [
    {
     "name": "stdout",
     "output_type": "stream",
     "text": [
      "Relevant data dimensions:  (32631, 27) \n",
      "\n",
      "<class 'pandas.core.frame.DataFrame'>\n",
      "Int64Index: 32631 entries, 48 to 228406\n",
      "Data columns (total 27 columns):\n",
      " #   Column             Non-Null Count  Dtype         \n",
      "---  ------             --------------  -----         \n",
      " 0   RECORD_ID          32631 non-null  int64         \n",
      " 1   CAMPNO             32631 non-null  object        \n",
      " 2   MAKETXT            32631 non-null  object        \n",
      " 3   MODELTXT           32631 non-null  object        \n",
      " 4   YEARTXT            32631 non-null  int64         \n",
      " 5   MFGCAMPNO          20815 non-null  object        \n",
      " 6   COMPNAME           32631 non-null  object        \n",
      " 7   MFGNAME            32631 non-null  object        \n",
      " 8   BGMAN              15022 non-null  object        \n",
      " 9   ENDMAN             15074 non-null  object        \n",
      " 10  RCLTYPECD          32631 non-null  object        \n",
      " 11  POTAFF             32631 non-null  float64       \n",
      " 12  ODATE              31358 non-null  object        \n",
      " 13  INFLUENCED_BY      32631 non-null  object        \n",
      " 14  MFGTXT             32631 non-null  object        \n",
      " 15  RCDATE             32631 non-null  datetime64[ns]\n",
      " 16  DATEA              32631 non-null  datetime64[ns]\n",
      " 17  RPNO               2369 non-null   object        \n",
      " 18  FMVSS              10643 non-null  object        \n",
      " 19  DESC_DEFECT        32205 non-null  object        \n",
      " 20  CONEQUENCE_DEFECT  31521 non-null  object        \n",
      " 21  CORRECTIVE_ACTION  32218 non-null  object        \n",
      " 22  NOTES              32606 non-null  object        \n",
      " 23  RCL_CMPT_ID        32631 non-null  object        \n",
      " 24  MFR_COMP_NAME      12997 non-null  object        \n",
      " 25  MFR_COMP_DESC      11656 non-null  object        \n",
      " 26  MFR_COMP_PTNO      11172 non-null  object        \n",
      "dtypes: datetime64[ns](2), float64(1), int64(2), object(22)\n",
      "memory usage: 7.0+ MB\n",
      "None\n"
     ]
    },
    {
     "name": "stderr",
     "output_type": "stream",
     "text": [
      "/opt/conda/lib/python3.7/site-packages/pandas/util/_decorators.py:311: SettingWithCopyWarning: \n",
      "A value is trying to be set on a copy of a slice from a DataFrame\n",
      "\n",
      "See the caveats in the documentation: https://pandas.pydata.org/pandas-docs/stable/user_guide/indexing.html#returning-a-view-versus-a-copy\n",
      "  return func(*args, **kwargs)\n"
     ]
    },
    {
     "data": {
      "text/html": [
       "<div>\n",
       "<style scoped>\n",
       "    .dataframe tbody tr th:only-of-type {\n",
       "        vertical-align: middle;\n",
       "    }\n",
       "\n",
       "    .dataframe tbody tr th {\n",
       "        vertical-align: top;\n",
       "    }\n",
       "\n",
       "    .dataframe thead th {\n",
       "        text-align: right;\n",
       "    }\n",
       "</style>\n",
       "<table border=\"1\" class=\"dataframe\">\n",
       "  <thead>\n",
       "    <tr style=\"text-align: right;\">\n",
       "      <th></th>\n",
       "      <th>RECORD_ID</th>\n",
       "      <th>CAMPNO</th>\n",
       "      <th>MAKETXT</th>\n",
       "      <th>MODELTXT</th>\n",
       "      <th>YEARTXT</th>\n",
       "      <th>MFGCAMPNO</th>\n",
       "      <th>COMPNAME</th>\n",
       "      <th>MFGNAME</th>\n",
       "      <th>BGMAN</th>\n",
       "      <th>ENDMAN</th>\n",
       "      <th>RCLTYPECD</th>\n",
       "      <th>POTAFF</th>\n",
       "      <th>ODATE</th>\n",
       "      <th>INFLUENCED_BY</th>\n",
       "      <th>MFGTXT</th>\n",
       "      <th>RCDATE</th>\n",
       "      <th>DATEA</th>\n",
       "      <th>RPNO</th>\n",
       "      <th>FMVSS</th>\n",
       "      <th>DESC_DEFECT</th>\n",
       "      <th>CONEQUENCE_DEFECT</th>\n",
       "      <th>CORRECTIVE_ACTION</th>\n",
       "      <th>NOTES</th>\n",
       "      <th>RCL_CMPT_ID</th>\n",
       "      <th>MFR_COMP_NAME</th>\n",
       "      <th>MFR_COMP_DESC</th>\n",
       "      <th>MFR_COMP_PTNO</th>\n",
       "    </tr>\n",
       "  </thead>\n",
       "  <tbody>\n",
       "    <tr>\n",
       "      <th>48</th>\n",
       "      <td>49</td>\n",
       "      <td>02V250000</td>\n",
       "      <td>HONDA</td>\n",
       "      <td>FSC600</td>\n",
       "      <td>2002</td>\n",
       "      <td>NaN</td>\n",
       "      <td>WHEELS</td>\n",
       "      <td>AMERICAN HONDA MOTOR CO.</td>\n",
       "      <td>20010808</td>\n",
       "      <td>20020708</td>\n",
       "      <td>V</td>\n",
       "      <td>2454.0</td>\n",
       "      <td>20020927</td>\n",
       "      <td>MFR</td>\n",
       "      <td>Honda (American Honda Motor Co.)</td>\n",
       "      <td>2002-09-17</td>\n",
       "      <td>2002-09-17</td>\n",
       "      <td>NaN</td>\n",
       "      <td>NaN</td>\n",
       "      <td>ON CERTAIN MOTORCYCLES, UNDER CERTAIN RIDING C...</td>\n",
       "      <td>THE SPOKES WILL EVENTUALLY FAIL, CAUSING THE W...</td>\n",
       "      <td>DEALERS WILL REPLACE THE REAR WHEEL, INCLUDING...</td>\n",
       "      <td>ALSO, CUSTOMERS CAN CONTACT THE NATIONAL HIGHW...</td>\n",
       "      <td>000015234000106390000000309</td>\n",
       "      <td>NaN</td>\n",
       "      <td>NaN</td>\n",
       "      <td>NaN</td>\n",
       "    </tr>\n",
       "    <tr>\n",
       "      <th>49</th>\n",
       "      <td>50</td>\n",
       "      <td>02V250000</td>\n",
       "      <td>HONDA</td>\n",
       "      <td>SILVER WING</td>\n",
       "      <td>2002</td>\n",
       "      <td>NaN</td>\n",
       "      <td>WHEELS</td>\n",
       "      <td>AMERICAN HONDA MOTOR CO.</td>\n",
       "      <td>20010808</td>\n",
       "      <td>20020708</td>\n",
       "      <td>V</td>\n",
       "      <td>2454.0</td>\n",
       "      <td>20020927</td>\n",
       "      <td>MFR</td>\n",
       "      <td>Honda (American Honda Motor Co.)</td>\n",
       "      <td>2002-09-17</td>\n",
       "      <td>2002-09-17</td>\n",
       "      <td>NaN</td>\n",
       "      <td>NaN</td>\n",
       "      <td>ON CERTAIN MOTORCYCLES, UNDER CERTAIN RIDING C...</td>\n",
       "      <td>THE SPOKES WILL EVENTUALLY FAIL, CAUSING THE W...</td>\n",
       "      <td>DEALERS WILL REPLACE THE REAR WHEEL, INCLUDING...</td>\n",
       "      <td>ALSO, CUSTOMERS CAN CONTACT THE NATIONAL HIGHW...</td>\n",
       "      <td>000015234000106389000000309</td>\n",
       "      <td>NaN</td>\n",
       "      <td>NaN</td>\n",
       "      <td>NaN</td>\n",
       "    </tr>\n",
       "    <tr>\n",
       "      <th>67</th>\n",
       "      <td>68</td>\n",
       "      <td>06V043000</td>\n",
       "      <td>VOLKSWAGEN</td>\n",
       "      <td>BEETLE</td>\n",
       "      <td>2006</td>\n",
       "      <td>M8</td>\n",
       "      <td>EQUIPMENT:OTHER:LABELS</td>\n",
       "      <td>VOLKSWAGEN OF AMERICA, INC</td>\n",
       "      <td>20051004</td>\n",
       "      <td>20060128</td>\n",
       "      <td>V</td>\n",
       "      <td>906.0</td>\n",
       "      <td>20060227</td>\n",
       "      <td>MFR</td>\n",
       "      <td>Volkswagen Group of America, Inc.</td>\n",
       "      <td>2006-02-09</td>\n",
       "      <td>2006-02-14</td>\n",
       "      <td>571</td>\n",
       "      <td>110</td>\n",
       "      <td>CERTAIN PASSENGER VEHICLES EQUIPPED WITH 17-IN...</td>\n",
       "      <td>A MISPRINTED LABEL COULD  LEAD TO FITMENT OF I...</td>\n",
       "      <td>OWNERS WILL BE PROVIDED WITH A NEW TIRE INFORM...</td>\n",
       "      <td>VOLKSWAGEN RECALL NO. M8.CUSTOMERS MAY ALSO CO...</td>\n",
       "      <td>000022568000222738000000349</td>\n",
       "      <td>NaN</td>\n",
       "      <td>NaN</td>\n",
       "      <td>NaN</td>\n",
       "    </tr>\n",
       "  </tbody>\n",
       "</table>\n",
       "</div>"
      ],
      "text/plain": [
       "    RECORD_ID     CAMPNO     MAKETXT     MODELTXT  YEARTXT MFGCAMPNO  \\\n",
       "48         49  02V250000       HONDA       FSC600     2002       NaN   \n",
       "49         50  02V250000       HONDA  SILVER WING     2002       NaN   \n",
       "67         68  06V043000  VOLKSWAGEN       BEETLE     2006        M8   \n",
       "\n",
       "                  COMPNAME                     MFGNAME     BGMAN    ENDMAN  \\\n",
       "48                  WHEELS    AMERICAN HONDA MOTOR CO.  20010808  20020708   \n",
       "49                  WHEELS    AMERICAN HONDA MOTOR CO.  20010808  20020708   \n",
       "67  EQUIPMENT:OTHER:LABELS  VOLKSWAGEN OF AMERICA, INC  20051004  20060128   \n",
       "\n",
       "   RCLTYPECD  POTAFF     ODATE INFLUENCED_BY  \\\n",
       "48         V  2454.0  20020927           MFR   \n",
       "49         V  2454.0  20020927           MFR   \n",
       "67         V   906.0  20060227           MFR   \n",
       "\n",
       "                               MFGTXT     RCDATE      DATEA RPNO FMVSS  \\\n",
       "48   Honda (American Honda Motor Co.) 2002-09-17 2002-09-17  NaN   NaN   \n",
       "49   Honda (American Honda Motor Co.) 2002-09-17 2002-09-17  NaN   NaN   \n",
       "67  Volkswagen Group of America, Inc. 2006-02-09 2006-02-14  571   110   \n",
       "\n",
       "                                          DESC_DEFECT  \\\n",
       "48  ON CERTAIN MOTORCYCLES, UNDER CERTAIN RIDING C...   \n",
       "49  ON CERTAIN MOTORCYCLES, UNDER CERTAIN RIDING C...   \n",
       "67  CERTAIN PASSENGER VEHICLES EQUIPPED WITH 17-IN...   \n",
       "\n",
       "                                    CONEQUENCE_DEFECT  \\\n",
       "48  THE SPOKES WILL EVENTUALLY FAIL, CAUSING THE W...   \n",
       "49  THE SPOKES WILL EVENTUALLY FAIL, CAUSING THE W...   \n",
       "67  A MISPRINTED LABEL COULD  LEAD TO FITMENT OF I...   \n",
       "\n",
       "                                    CORRECTIVE_ACTION  \\\n",
       "48  DEALERS WILL REPLACE THE REAR WHEEL, INCLUDING...   \n",
       "49  DEALERS WILL REPLACE THE REAR WHEEL, INCLUDING...   \n",
       "67  OWNERS WILL BE PROVIDED WITH A NEW TIRE INFORM...   \n",
       "\n",
       "                                                NOTES  \\\n",
       "48  ALSO, CUSTOMERS CAN CONTACT THE NATIONAL HIGHW...   \n",
       "49  ALSO, CUSTOMERS CAN CONTACT THE NATIONAL HIGHW...   \n",
       "67  VOLKSWAGEN RECALL NO. M8.CUSTOMERS MAY ALSO CO...   \n",
       "\n",
       "                    RCL_CMPT_ID MFR_COMP_NAME MFR_COMP_DESC MFR_COMP_PTNO  \n",
       "48  000015234000106390000000309           NaN           NaN           NaN  \n",
       "49  000015234000106389000000309           NaN           NaN           NaN  \n",
       "67  000022568000222738000000349           NaN           NaN           NaN  "
      ]
     },
     "execution_count": 2,
     "metadata": {},
     "output_type": "execute_result"
    }
   ],
   "source": [
    "manufacturers = ['BMW','MINI','MERCEDES','LEXUS','NISSAN','AUDI','VOLKSWAGEN','HYUNDAI','INFINITI','KIA','MAZDA',\n",
    "                'LAND ROVER','VOLVO','HONDA','JAGUAR','ACURA','TOYOTA','MOPAR','SUBARU','PORSCHE']\n",
    "\n",
    "names = ['RECORD_ID','CAMPNO','MAKETXT','MODELTXT','YEARTXT','MFGCAMPNO','COMPNAME','MFGNAME','BGMAN','ENDMAN','RCLTYPECD',\n",
    "        'POTAFF','ODATE','INFLUENCED_BY','MFGTXT','RCDATE','DATEA','RPNO','FMVSS','DESC_DEFECT','CONEQUENCE_DEFECT',\n",
    "        'CORRECTIVE_ACTION','NOTES','RCL_CMPT_ID','MFR_COMP_NAME','MFR_COMP_DESC','MFR_COMP_PTNO']\n",
    "\n",
    "# keep only relevant car manufacturers\n",
    "data = raw[raw[2].isin(manufacturers)]\n",
    "\n",
    "#rename columms \n",
    "data.columns = names\n",
    "\n",
    "# drop 1 record in POTAFF column\n",
    "data.dropna(subset=['POTAFF'], axis=0, inplace=True)\n",
    "\n",
    "# inspect the data\n",
    "print('Relevant data dimensions: ', data.shape, '\\n')\n",
    "print(data.info())\n",
    "data.head(n=3)"
   ]
  },
  {
   "cell_type": "code",
   "execution_count": 3,
   "id": "6e09e1c0",
   "metadata": {
    "execution": {
     "iopub.execute_input": "2022-08-02T20:50:46.630714Z",
     "iopub.status.busy": "2022-08-02T20:50:46.630134Z",
     "iopub.status.idle": "2022-08-02T20:50:46.651554Z",
     "shell.execute_reply": "2022-08-02T20:50:46.649986Z"
    },
    "papermill": {
     "duration": 0.029724,
     "end_time": "2022-08-02T20:50:46.655073",
     "exception": false,
     "start_time": "2022-08-02T20:50:46.625349",
     "status": "completed"
    },
    "tags": []
   },
   "outputs": [
    {
     "name": "stdout",
     "output_type": "stream",
     "text": [
      "There are 3730 recalls potentially affecting 307395126 vehicles in this dataset.\n"
     ]
    }
   ],
   "source": [
    "# total campaigns\n",
    "total_camps = data['CAMPNO'].nunique()\n",
    "\n",
    "#total cars affected in all camps\n",
    "total_cars = data.groupby('CAMPNO')['POTAFF'].mean().sum()\n",
    "\n",
    "print(\"There are {total_camps} recalls potentially affecting {total_cars} vehicles in this dataset.\".format(total_camps=total_camps, total_cars=int(total_cars)))"
   ]
  },
  {
   "cell_type": "code",
   "execution_count": 4,
   "id": "17c219ef",
   "metadata": {
    "execution": {
     "iopub.execute_input": "2022-08-02T20:50:46.664578Z",
     "iopub.status.busy": "2022-08-02T20:50:46.664092Z",
     "iopub.status.idle": "2022-08-02T20:50:47.783835Z",
     "shell.execute_reply": "2022-08-02T20:50:47.782709Z"
    },
    "papermill": {
     "duration": 1.127335,
     "end_time": "2022-08-02T20:50:47.786378",
     "exception": false,
     "start_time": "2022-08-02T20:50:46.659043",
     "status": "completed"
    },
    "tags": []
   },
   "outputs": [
    {
     "data": {
      "text/html": [
       "        <script type=\"text/javascript\">\n",
       "        window.PlotlyConfig = {MathJaxConfig: 'local'};\n",
       "        if (window.MathJax && window.MathJax.Hub && window.MathJax.Hub.Config) {window.MathJax.Hub.Config({SVG: {font: \"STIX-Web\"}});}\n",
       "        if (typeof require !== 'undefined') {\n",
       "        require.undef(\"plotly\");\n",
       "        requirejs.config({\n",
       "            paths: {\n",
       "                'plotly': ['https://cdn.plot.ly/plotly-2.12.1.min']\n",
       "            }\n",
       "        });\n",
       "        require(['plotly'], function(Plotly) {\n",
       "            window._Plotly = Plotly;\n",
       "        });\n",
       "        }\n",
       "        </script>\n",
       "        "
      ]
     },
     "metadata": {},
     "output_type": "display_data"
    },
    {
     "data": {
      "text/html": [
       "<div>                            <div id=\"5c921f82-b333-4bf3-9ff2-5508086f0823\" class=\"plotly-graph-div\" style=\"height:525px; width:100%;\"></div>            <script type=\"text/javascript\">                require([\"plotly\"], function(Plotly) {                    window.PLOTLYENV=window.PLOTLYENV || {};                                    if (document.getElementById(\"5c921f82-b333-4bf3-9ff2-5508086f0823\")) {                    Plotly.newPlot(                        \"5c921f82-b333-4bf3-9ff2-5508086f0823\",                        [{\"alignmentgroup\":\"True\",\"hovertemplate\":\"=%{x}<br># of Recalls=%{y}<extra></extra>\",\"legendgroup\":\"\",\"marker\":{\"color\":\"#636efa\",\"pattern\":{\"shape\":\"\"}},\"name\":\"\",\"offsetgroup\":\"\",\"orientation\":\"v\",\"showlegend\":false,\"textposition\":\"auto\",\"x\":[\"BMW\",\"HONDA\",\"TOYOTA\",\"VOLVO\",\"NISSAN\",\"VOLKSWAGEN\",\"HYUNDAI\",\"MAZDA\",\"AUDI\",\"PORSCHE\",\"SUBARU\",\"KIA\",\"LAND ROVER\",\"JAGUAR\",\"ACURA\",\"INFINITI\",\"LEXUS\",\"MINI\",\"MOPAR\",\"MERCEDES\"],\"xaxis\":\"x\",\"y\":[459,392,379,356,349,335,231,211,207,176,161,139,132,128,118,101,100,38,21,1],\"yaxis\":\"y\",\"type\":\"bar\"}],                        {\"template\":{\"data\":{\"histogram2dcontour\":[{\"type\":\"histogram2dcontour\",\"colorbar\":{\"outlinewidth\":0,\"ticks\":\"\"},\"colorscale\":[[0.0,\"#0d0887\"],[0.1111111111111111,\"#46039f\"],[0.2222222222222222,\"#7201a8\"],[0.3333333333333333,\"#9c179e\"],[0.4444444444444444,\"#bd3786\"],[0.5555555555555556,\"#d8576b\"],[0.6666666666666666,\"#ed7953\"],[0.7777777777777778,\"#fb9f3a\"],[0.8888888888888888,\"#fdca26\"],[1.0,\"#f0f921\"]]}],\"choropleth\":[{\"type\":\"choropleth\",\"colorbar\":{\"outlinewidth\":0,\"ticks\":\"\"}}],\"histogram2d\":[{\"type\":\"histogram2d\",\"colorbar\":{\"outlinewidth\":0,\"ticks\":\"\"},\"colorscale\":[[0.0,\"#0d0887\"],[0.1111111111111111,\"#46039f\"],[0.2222222222222222,\"#7201a8\"],[0.3333333333333333,\"#9c179e\"],[0.4444444444444444,\"#bd3786\"],[0.5555555555555556,\"#d8576b\"],[0.6666666666666666,\"#ed7953\"],[0.7777777777777778,\"#fb9f3a\"],[0.8888888888888888,\"#fdca26\"],[1.0,\"#f0f921\"]]}],\"heatmap\":[{\"type\":\"heatmap\",\"colorbar\":{\"outlinewidth\":0,\"ticks\":\"\"},\"colorscale\":[[0.0,\"#0d0887\"],[0.1111111111111111,\"#46039f\"],[0.2222222222222222,\"#7201a8\"],[0.3333333333333333,\"#9c179e\"],[0.4444444444444444,\"#bd3786\"],[0.5555555555555556,\"#d8576b\"],[0.6666666666666666,\"#ed7953\"],[0.7777777777777778,\"#fb9f3a\"],[0.8888888888888888,\"#fdca26\"],[1.0,\"#f0f921\"]]}],\"heatmapgl\":[{\"type\":\"heatmapgl\",\"colorbar\":{\"outlinewidth\":0,\"ticks\":\"\"},\"colorscale\":[[0.0,\"#0d0887\"],[0.1111111111111111,\"#46039f\"],[0.2222222222222222,\"#7201a8\"],[0.3333333333333333,\"#9c179e\"],[0.4444444444444444,\"#bd3786\"],[0.5555555555555556,\"#d8576b\"],[0.6666666666666666,\"#ed7953\"],[0.7777777777777778,\"#fb9f3a\"],[0.8888888888888888,\"#fdca26\"],[1.0,\"#f0f921\"]]}],\"contourcarpet\":[{\"type\":\"contourcarpet\",\"colorbar\":{\"outlinewidth\":0,\"ticks\":\"\"}}],\"contour\":[{\"type\":\"contour\",\"colorbar\":{\"outlinewidth\":0,\"ticks\":\"\"},\"colorscale\":[[0.0,\"#0d0887\"],[0.1111111111111111,\"#46039f\"],[0.2222222222222222,\"#7201a8\"],[0.3333333333333333,\"#9c179e\"],[0.4444444444444444,\"#bd3786\"],[0.5555555555555556,\"#d8576b\"],[0.6666666666666666,\"#ed7953\"],[0.7777777777777778,\"#fb9f3a\"],[0.8888888888888888,\"#fdca26\"],[1.0,\"#f0f921\"]]}],\"surface\":[{\"type\":\"surface\",\"colorbar\":{\"outlinewidth\":0,\"ticks\":\"\"},\"colorscale\":[[0.0,\"#0d0887\"],[0.1111111111111111,\"#46039f\"],[0.2222222222222222,\"#7201a8\"],[0.3333333333333333,\"#9c179e\"],[0.4444444444444444,\"#bd3786\"],[0.5555555555555556,\"#d8576b\"],[0.6666666666666666,\"#ed7953\"],[0.7777777777777778,\"#fb9f3a\"],[0.8888888888888888,\"#fdca26\"],[1.0,\"#f0f921\"]]}],\"mesh3d\":[{\"type\":\"mesh3d\",\"colorbar\":{\"outlinewidth\":0,\"ticks\":\"\"}}],\"scatter\":[{\"fillpattern\":{\"fillmode\":\"overlay\",\"size\":10,\"solidity\":0.2},\"type\":\"scatter\"}],\"parcoords\":[{\"type\":\"parcoords\",\"line\":{\"colorbar\":{\"outlinewidth\":0,\"ticks\":\"\"}}}],\"scatterpolargl\":[{\"type\":\"scatterpolargl\",\"marker\":{\"colorbar\":{\"outlinewidth\":0,\"ticks\":\"\"}}}],\"bar\":[{\"error_x\":{\"color\":\"#2a3f5f\"},\"error_y\":{\"color\":\"#2a3f5f\"},\"marker\":{\"line\":{\"color\":\"#E5ECF6\",\"width\":0.5},\"pattern\":{\"fillmode\":\"overlay\",\"size\":10,\"solidity\":0.2}},\"type\":\"bar\"}],\"scattergeo\":[{\"type\":\"scattergeo\",\"marker\":{\"colorbar\":{\"outlinewidth\":0,\"ticks\":\"\"}}}],\"scatterpolar\":[{\"type\":\"scatterpolar\",\"marker\":{\"colorbar\":{\"outlinewidth\":0,\"ticks\":\"\"}}}],\"histogram\":[{\"marker\":{\"pattern\":{\"fillmode\":\"overlay\",\"size\":10,\"solidity\":0.2}},\"type\":\"histogram\"}],\"scattergl\":[{\"type\":\"scattergl\",\"marker\":{\"colorbar\":{\"outlinewidth\":0,\"ticks\":\"\"}}}],\"scatter3d\":[{\"type\":\"scatter3d\",\"line\":{\"colorbar\":{\"outlinewidth\":0,\"ticks\":\"\"}},\"marker\":{\"colorbar\":{\"outlinewidth\":0,\"ticks\":\"\"}}}],\"scattermapbox\":[{\"type\":\"scattermapbox\",\"marker\":{\"colorbar\":{\"outlinewidth\":0,\"ticks\":\"\"}}}],\"scatterternary\":[{\"type\":\"scatterternary\",\"marker\":{\"colorbar\":{\"outlinewidth\":0,\"ticks\":\"\"}}}],\"scattercarpet\":[{\"type\":\"scattercarpet\",\"marker\":{\"colorbar\":{\"outlinewidth\":0,\"ticks\":\"\"}}}],\"carpet\":[{\"aaxis\":{\"endlinecolor\":\"#2a3f5f\",\"gridcolor\":\"white\",\"linecolor\":\"white\",\"minorgridcolor\":\"white\",\"startlinecolor\":\"#2a3f5f\"},\"baxis\":{\"endlinecolor\":\"#2a3f5f\",\"gridcolor\":\"white\",\"linecolor\":\"white\",\"minorgridcolor\":\"white\",\"startlinecolor\":\"#2a3f5f\"},\"type\":\"carpet\"}],\"table\":[{\"cells\":{\"fill\":{\"color\":\"#EBF0F8\"},\"line\":{\"color\":\"white\"}},\"header\":{\"fill\":{\"color\":\"#C8D4E3\"},\"line\":{\"color\":\"white\"}},\"type\":\"table\"}],\"barpolar\":[{\"marker\":{\"line\":{\"color\":\"#E5ECF6\",\"width\":0.5},\"pattern\":{\"fillmode\":\"overlay\",\"size\":10,\"solidity\":0.2}},\"type\":\"barpolar\"}],\"pie\":[{\"automargin\":true,\"type\":\"pie\"}]},\"layout\":{\"autotypenumbers\":\"strict\",\"colorway\":[\"#636efa\",\"#EF553B\",\"#00cc96\",\"#ab63fa\",\"#FFA15A\",\"#19d3f3\",\"#FF6692\",\"#B6E880\",\"#FF97FF\",\"#FECB52\"],\"font\":{\"color\":\"#2a3f5f\"},\"hovermode\":\"closest\",\"hoverlabel\":{\"align\":\"left\"},\"paper_bgcolor\":\"white\",\"plot_bgcolor\":\"#E5ECF6\",\"polar\":{\"bgcolor\":\"#E5ECF6\",\"angularaxis\":{\"gridcolor\":\"white\",\"linecolor\":\"white\",\"ticks\":\"\"},\"radialaxis\":{\"gridcolor\":\"white\",\"linecolor\":\"white\",\"ticks\":\"\"}},\"ternary\":{\"bgcolor\":\"#E5ECF6\",\"aaxis\":{\"gridcolor\":\"white\",\"linecolor\":\"white\",\"ticks\":\"\"},\"baxis\":{\"gridcolor\":\"white\",\"linecolor\":\"white\",\"ticks\":\"\"},\"caxis\":{\"gridcolor\":\"white\",\"linecolor\":\"white\",\"ticks\":\"\"}},\"coloraxis\":{\"colorbar\":{\"outlinewidth\":0,\"ticks\":\"\"}},\"colorscale\":{\"sequential\":[[0.0,\"#0d0887\"],[0.1111111111111111,\"#46039f\"],[0.2222222222222222,\"#7201a8\"],[0.3333333333333333,\"#9c179e\"],[0.4444444444444444,\"#bd3786\"],[0.5555555555555556,\"#d8576b\"],[0.6666666666666666,\"#ed7953\"],[0.7777777777777778,\"#fb9f3a\"],[0.8888888888888888,\"#fdca26\"],[1.0,\"#f0f921\"]],\"sequentialminus\":[[0.0,\"#0d0887\"],[0.1111111111111111,\"#46039f\"],[0.2222222222222222,\"#7201a8\"],[0.3333333333333333,\"#9c179e\"],[0.4444444444444444,\"#bd3786\"],[0.5555555555555556,\"#d8576b\"],[0.6666666666666666,\"#ed7953\"],[0.7777777777777778,\"#fb9f3a\"],[0.8888888888888888,\"#fdca26\"],[1.0,\"#f0f921\"]],\"diverging\":[[0,\"#8e0152\"],[0.1,\"#c51b7d\"],[0.2,\"#de77ae\"],[0.3,\"#f1b6da\"],[0.4,\"#fde0ef\"],[0.5,\"#f7f7f7\"],[0.6,\"#e6f5d0\"],[0.7,\"#b8e186\"],[0.8,\"#7fbc41\"],[0.9,\"#4d9221\"],[1,\"#276419\"]]},\"xaxis\":{\"gridcolor\":\"white\",\"linecolor\":\"white\",\"ticks\":\"\",\"title\":{\"standoff\":15},\"zerolinecolor\":\"white\",\"automargin\":true,\"zerolinewidth\":2},\"yaxis\":{\"gridcolor\":\"white\",\"linecolor\":\"white\",\"ticks\":\"\",\"title\":{\"standoff\":15},\"zerolinecolor\":\"white\",\"automargin\":true,\"zerolinewidth\":2},\"scene\":{\"xaxis\":{\"backgroundcolor\":\"#E5ECF6\",\"gridcolor\":\"white\",\"linecolor\":\"white\",\"showbackground\":true,\"ticks\":\"\",\"zerolinecolor\":\"white\",\"gridwidth\":2},\"yaxis\":{\"backgroundcolor\":\"#E5ECF6\",\"gridcolor\":\"white\",\"linecolor\":\"white\",\"showbackground\":true,\"ticks\":\"\",\"zerolinecolor\":\"white\",\"gridwidth\":2},\"zaxis\":{\"backgroundcolor\":\"#E5ECF6\",\"gridcolor\":\"white\",\"linecolor\":\"white\",\"showbackground\":true,\"ticks\":\"\",\"zerolinecolor\":\"white\",\"gridwidth\":2}},\"shapedefaults\":{\"line\":{\"color\":\"#2a3f5f\"}},\"annotationdefaults\":{\"arrowcolor\":\"#2a3f5f\",\"arrowhead\":0,\"arrowwidth\":1},\"geo\":{\"bgcolor\":\"white\",\"landcolor\":\"#E5ECF6\",\"subunitcolor\":\"white\",\"showland\":true,\"showlakes\":true,\"lakecolor\":\"white\"},\"title\":{\"x\":0.05},\"mapbox\":{\"style\":\"light\"}}},\"xaxis\":{\"anchor\":\"y\",\"domain\":[0.0,1.0],\"title\":{\"text\":\"\"}},\"yaxis\":{\"anchor\":\"x\",\"domain\":[0.0,1.0],\"title\":{\"text\":\"# of Recalls\"}},\"legend\":{\"tracegroupgap\":0},\"title\":{\"text\":\"Figure 1: Recalls Issued by Each Manufacturer\"},\"barmode\":\"relative\"},                        {\"responsive\": true}                    ).then(function(){\n",
       "                            \n",
       "var gd = document.getElementById('5c921f82-b333-4bf3-9ff2-5508086f0823');\n",
       "var x = new MutationObserver(function (mutations, observer) {{\n",
       "        var display = window.getComputedStyle(gd).display;\n",
       "        if (!display || display === 'none') {{\n",
       "            console.log([gd, 'removed!']);\n",
       "            Plotly.purge(gd);\n",
       "            observer.disconnect();\n",
       "        }}\n",
       "}});\n",
       "\n",
       "// Listen for the removal of the full notebook cells\n",
       "var notebookContainer = gd.closest('#notebook-container');\n",
       "if (notebookContainer) {{\n",
       "    x.observe(notebookContainer, {childList: true});\n",
       "}}\n",
       "\n",
       "// Listen for the clearing of the current output cell\n",
       "var outputEl = gd.closest('.output');\n",
       "if (outputEl) {{\n",
       "    x.observe(outputEl, {childList: true});\n",
       "}}\n",
       "\n",
       "                        })                };                });            </script>        </div>"
      ]
     },
     "metadata": {},
     "output_type": "display_data"
    }
   ],
   "source": [
    "# total campaigns by mfr\n",
    "total_camps_mfr = data.groupby('MAKETXT')['CAMPNO'].nunique().sort_values(ascending=False)\n",
    "\n",
    "px.bar(x=total_camps_mfr.index, y=total_camps_mfr, title='Figure 1: Recalls Issued by Each Manufacturer',\n",
    "      labels={'x':'', 'y':'# of Recalls'})"
   ]
  },
  {
   "cell_type": "code",
   "execution_count": 5,
   "id": "8cec72c2",
   "metadata": {
    "execution": {
     "iopub.execute_input": "2022-08-02T20:50:47.796435Z",
     "iopub.status.busy": "2022-08-02T20:50:47.796009Z",
     "iopub.status.idle": "2022-08-02T20:50:47.869332Z",
     "shell.execute_reply": "2022-08-02T20:50:47.868201Z"
    },
    "papermill": {
     "duration": 0.081978,
     "end_time": "2022-08-02T20:50:47.872548",
     "exception": false,
     "start_time": "2022-08-02T20:50:47.790570",
     "status": "completed"
    },
    "tags": []
   },
   "outputs": [
    {
     "data": {
      "text/html": [
       "<div>                            <div id=\"e708cbb1-1741-4d58-8ba8-56279725f4b9\" class=\"plotly-graph-div\" style=\"height:525px; width:100%;\"></div>            <script type=\"text/javascript\">                require([\"plotly\"], function(Plotly) {                    window.PLOTLYENV=window.PLOTLYENV || {};                                    if (document.getElementById(\"e708cbb1-1741-4d58-8ba8-56279725f4b9\")) {                    Plotly.newPlot(                        \"e708cbb1-1741-4d58-8ba8-56279725f4b9\",                        [{\"alignmentgroup\":\"True\",\"hovertemplate\":\"=%{x}<br># of Vehicles=%{y}<extra></extra>\",\"legendgroup\":\"\",\"marker\":{\"color\":\"#636efa\",\"pattern\":{\"shape\":\"\"}},\"name\":\"\",\"offsetgroup\":\"\",\"orientation\":\"v\",\"showlegend\":false,\"textposition\":\"auto\",\"x\":[\"TOYOTA\",\"HONDA\",\"ACURA\",\"NISSAN\",\"LEXUS\",\"MAZDA\",\"VOLKSWAGEN\",\"HYUNDAI\",\"INFINITI\",\"SUBARU\",\"BMW\",\"KIA\",\"AUDI\",\"VOLVO\",\"LAND ROVER\",\"PORSCHE\",\"JAGUAR\",\"MINI\",\"MOPAR\",\"MERCEDES\"],\"xaxis\":\"x\",\"y\":[69008502.0,68778395.0,41215268.0,40230288.0,27552341.0,25752926.0,23291088.0,22253228.0,17530653.0,14416595.0,13361447.0,10861716.0,9769371.0,6616351.0,2031818.0,1255160.0,924372.0,545806.0,225905.0,16270.0],\"yaxis\":\"y\",\"type\":\"bar\"}],                        {\"template\":{\"data\":{\"histogram2dcontour\":[{\"type\":\"histogram2dcontour\",\"colorbar\":{\"outlinewidth\":0,\"ticks\":\"\"},\"colorscale\":[[0.0,\"#0d0887\"],[0.1111111111111111,\"#46039f\"],[0.2222222222222222,\"#7201a8\"],[0.3333333333333333,\"#9c179e\"],[0.4444444444444444,\"#bd3786\"],[0.5555555555555556,\"#d8576b\"],[0.6666666666666666,\"#ed7953\"],[0.7777777777777778,\"#fb9f3a\"],[0.8888888888888888,\"#fdca26\"],[1.0,\"#f0f921\"]]}],\"choropleth\":[{\"type\":\"choropleth\",\"colorbar\":{\"outlinewidth\":0,\"ticks\":\"\"}}],\"histogram2d\":[{\"type\":\"histogram2d\",\"colorbar\":{\"outlinewidth\":0,\"ticks\":\"\"},\"colorscale\":[[0.0,\"#0d0887\"],[0.1111111111111111,\"#46039f\"],[0.2222222222222222,\"#7201a8\"],[0.3333333333333333,\"#9c179e\"],[0.4444444444444444,\"#bd3786\"],[0.5555555555555556,\"#d8576b\"],[0.6666666666666666,\"#ed7953\"],[0.7777777777777778,\"#fb9f3a\"],[0.8888888888888888,\"#fdca26\"],[1.0,\"#f0f921\"]]}],\"heatmap\":[{\"type\":\"heatmap\",\"colorbar\":{\"outlinewidth\":0,\"ticks\":\"\"},\"colorscale\":[[0.0,\"#0d0887\"],[0.1111111111111111,\"#46039f\"],[0.2222222222222222,\"#7201a8\"],[0.3333333333333333,\"#9c179e\"],[0.4444444444444444,\"#bd3786\"],[0.5555555555555556,\"#d8576b\"],[0.6666666666666666,\"#ed7953\"],[0.7777777777777778,\"#fb9f3a\"],[0.8888888888888888,\"#fdca26\"],[1.0,\"#f0f921\"]]}],\"heatmapgl\":[{\"type\":\"heatmapgl\",\"colorbar\":{\"outlinewidth\":0,\"ticks\":\"\"},\"colorscale\":[[0.0,\"#0d0887\"],[0.1111111111111111,\"#46039f\"],[0.2222222222222222,\"#7201a8\"],[0.3333333333333333,\"#9c179e\"],[0.4444444444444444,\"#bd3786\"],[0.5555555555555556,\"#d8576b\"],[0.6666666666666666,\"#ed7953\"],[0.7777777777777778,\"#fb9f3a\"],[0.8888888888888888,\"#fdca26\"],[1.0,\"#f0f921\"]]}],\"contourcarpet\":[{\"type\":\"contourcarpet\",\"colorbar\":{\"outlinewidth\":0,\"ticks\":\"\"}}],\"contour\":[{\"type\":\"contour\",\"colorbar\":{\"outlinewidth\":0,\"ticks\":\"\"},\"colorscale\":[[0.0,\"#0d0887\"],[0.1111111111111111,\"#46039f\"],[0.2222222222222222,\"#7201a8\"],[0.3333333333333333,\"#9c179e\"],[0.4444444444444444,\"#bd3786\"],[0.5555555555555556,\"#d8576b\"],[0.6666666666666666,\"#ed7953\"],[0.7777777777777778,\"#fb9f3a\"],[0.8888888888888888,\"#fdca26\"],[1.0,\"#f0f921\"]]}],\"surface\":[{\"type\":\"surface\",\"colorbar\":{\"outlinewidth\":0,\"ticks\":\"\"},\"colorscale\":[[0.0,\"#0d0887\"],[0.1111111111111111,\"#46039f\"],[0.2222222222222222,\"#7201a8\"],[0.3333333333333333,\"#9c179e\"],[0.4444444444444444,\"#bd3786\"],[0.5555555555555556,\"#d8576b\"],[0.6666666666666666,\"#ed7953\"],[0.7777777777777778,\"#fb9f3a\"],[0.8888888888888888,\"#fdca26\"],[1.0,\"#f0f921\"]]}],\"mesh3d\":[{\"type\":\"mesh3d\",\"colorbar\":{\"outlinewidth\":0,\"ticks\":\"\"}}],\"scatter\":[{\"fillpattern\":{\"fillmode\":\"overlay\",\"size\":10,\"solidity\":0.2},\"type\":\"scatter\"}],\"parcoords\":[{\"type\":\"parcoords\",\"line\":{\"colorbar\":{\"outlinewidth\":0,\"ticks\":\"\"}}}],\"scatterpolargl\":[{\"type\":\"scatterpolargl\",\"marker\":{\"colorbar\":{\"outlinewidth\":0,\"ticks\":\"\"}}}],\"bar\":[{\"error_x\":{\"color\":\"#2a3f5f\"},\"error_y\":{\"color\":\"#2a3f5f\"},\"marker\":{\"line\":{\"color\":\"#E5ECF6\",\"width\":0.5},\"pattern\":{\"fillmode\":\"overlay\",\"size\":10,\"solidity\":0.2}},\"type\":\"bar\"}],\"scattergeo\":[{\"type\":\"scattergeo\",\"marker\":{\"colorbar\":{\"outlinewidth\":0,\"ticks\":\"\"}}}],\"scatterpolar\":[{\"type\":\"scatterpolar\",\"marker\":{\"colorbar\":{\"outlinewidth\":0,\"ticks\":\"\"}}}],\"histogram\":[{\"marker\":{\"pattern\":{\"fillmode\":\"overlay\",\"size\":10,\"solidity\":0.2}},\"type\":\"histogram\"}],\"scattergl\":[{\"type\":\"scattergl\",\"marker\":{\"colorbar\":{\"outlinewidth\":0,\"ticks\":\"\"}}}],\"scatter3d\":[{\"type\":\"scatter3d\",\"line\":{\"colorbar\":{\"outlinewidth\":0,\"ticks\":\"\"}},\"marker\":{\"colorbar\":{\"outlinewidth\":0,\"ticks\":\"\"}}}],\"scattermapbox\":[{\"type\":\"scattermapbox\",\"marker\":{\"colorbar\":{\"outlinewidth\":0,\"ticks\":\"\"}}}],\"scatterternary\":[{\"type\":\"scatterternary\",\"marker\":{\"colorbar\":{\"outlinewidth\":0,\"ticks\":\"\"}}}],\"scattercarpet\":[{\"type\":\"scattercarpet\",\"marker\":{\"colorbar\":{\"outlinewidth\":0,\"ticks\":\"\"}}}],\"carpet\":[{\"aaxis\":{\"endlinecolor\":\"#2a3f5f\",\"gridcolor\":\"white\",\"linecolor\":\"white\",\"minorgridcolor\":\"white\",\"startlinecolor\":\"#2a3f5f\"},\"baxis\":{\"endlinecolor\":\"#2a3f5f\",\"gridcolor\":\"white\",\"linecolor\":\"white\",\"minorgridcolor\":\"white\",\"startlinecolor\":\"#2a3f5f\"},\"type\":\"carpet\"}],\"table\":[{\"cells\":{\"fill\":{\"color\":\"#EBF0F8\"},\"line\":{\"color\":\"white\"}},\"header\":{\"fill\":{\"color\":\"#C8D4E3\"},\"line\":{\"color\":\"white\"}},\"type\":\"table\"}],\"barpolar\":[{\"marker\":{\"line\":{\"color\":\"#E5ECF6\",\"width\":0.5},\"pattern\":{\"fillmode\":\"overlay\",\"size\":10,\"solidity\":0.2}},\"type\":\"barpolar\"}],\"pie\":[{\"automargin\":true,\"type\":\"pie\"}]},\"layout\":{\"autotypenumbers\":\"strict\",\"colorway\":[\"#636efa\",\"#EF553B\",\"#00cc96\",\"#ab63fa\",\"#FFA15A\",\"#19d3f3\",\"#FF6692\",\"#B6E880\",\"#FF97FF\",\"#FECB52\"],\"font\":{\"color\":\"#2a3f5f\"},\"hovermode\":\"closest\",\"hoverlabel\":{\"align\":\"left\"},\"paper_bgcolor\":\"white\",\"plot_bgcolor\":\"#E5ECF6\",\"polar\":{\"bgcolor\":\"#E5ECF6\",\"angularaxis\":{\"gridcolor\":\"white\",\"linecolor\":\"white\",\"ticks\":\"\"},\"radialaxis\":{\"gridcolor\":\"white\",\"linecolor\":\"white\",\"ticks\":\"\"}},\"ternary\":{\"bgcolor\":\"#E5ECF6\",\"aaxis\":{\"gridcolor\":\"white\",\"linecolor\":\"white\",\"ticks\":\"\"},\"baxis\":{\"gridcolor\":\"white\",\"linecolor\":\"white\",\"ticks\":\"\"},\"caxis\":{\"gridcolor\":\"white\",\"linecolor\":\"white\",\"ticks\":\"\"}},\"coloraxis\":{\"colorbar\":{\"outlinewidth\":0,\"ticks\":\"\"}},\"colorscale\":{\"sequential\":[[0.0,\"#0d0887\"],[0.1111111111111111,\"#46039f\"],[0.2222222222222222,\"#7201a8\"],[0.3333333333333333,\"#9c179e\"],[0.4444444444444444,\"#bd3786\"],[0.5555555555555556,\"#d8576b\"],[0.6666666666666666,\"#ed7953\"],[0.7777777777777778,\"#fb9f3a\"],[0.8888888888888888,\"#fdca26\"],[1.0,\"#f0f921\"]],\"sequentialminus\":[[0.0,\"#0d0887\"],[0.1111111111111111,\"#46039f\"],[0.2222222222222222,\"#7201a8\"],[0.3333333333333333,\"#9c179e\"],[0.4444444444444444,\"#bd3786\"],[0.5555555555555556,\"#d8576b\"],[0.6666666666666666,\"#ed7953\"],[0.7777777777777778,\"#fb9f3a\"],[0.8888888888888888,\"#fdca26\"],[1.0,\"#f0f921\"]],\"diverging\":[[0,\"#8e0152\"],[0.1,\"#c51b7d\"],[0.2,\"#de77ae\"],[0.3,\"#f1b6da\"],[0.4,\"#fde0ef\"],[0.5,\"#f7f7f7\"],[0.6,\"#e6f5d0\"],[0.7,\"#b8e186\"],[0.8,\"#7fbc41\"],[0.9,\"#4d9221\"],[1,\"#276419\"]]},\"xaxis\":{\"gridcolor\":\"white\",\"linecolor\":\"white\",\"ticks\":\"\",\"title\":{\"standoff\":15},\"zerolinecolor\":\"white\",\"automargin\":true,\"zerolinewidth\":2},\"yaxis\":{\"gridcolor\":\"white\",\"linecolor\":\"white\",\"ticks\":\"\",\"title\":{\"standoff\":15},\"zerolinecolor\":\"white\",\"automargin\":true,\"zerolinewidth\":2},\"scene\":{\"xaxis\":{\"backgroundcolor\":\"#E5ECF6\",\"gridcolor\":\"white\",\"linecolor\":\"white\",\"showbackground\":true,\"ticks\":\"\",\"zerolinecolor\":\"white\",\"gridwidth\":2},\"yaxis\":{\"backgroundcolor\":\"#E5ECF6\",\"gridcolor\":\"white\",\"linecolor\":\"white\",\"showbackground\":true,\"ticks\":\"\",\"zerolinecolor\":\"white\",\"gridwidth\":2},\"zaxis\":{\"backgroundcolor\":\"#E5ECF6\",\"gridcolor\":\"white\",\"linecolor\":\"white\",\"showbackground\":true,\"ticks\":\"\",\"zerolinecolor\":\"white\",\"gridwidth\":2}},\"shapedefaults\":{\"line\":{\"color\":\"#2a3f5f\"}},\"annotationdefaults\":{\"arrowcolor\":\"#2a3f5f\",\"arrowhead\":0,\"arrowwidth\":1},\"geo\":{\"bgcolor\":\"white\",\"landcolor\":\"#E5ECF6\",\"subunitcolor\":\"white\",\"showland\":true,\"showlakes\":true,\"lakecolor\":\"white\"},\"title\":{\"x\":0.05},\"mapbox\":{\"style\":\"light\"}}},\"xaxis\":{\"anchor\":\"y\",\"domain\":[0.0,1.0],\"title\":{\"text\":\"\"}},\"yaxis\":{\"anchor\":\"x\",\"domain\":[0.0,1.0],\"title\":{\"text\":\"# of Vehicles\"}},\"legend\":{\"tracegroupgap\":0},\"title\":{\"text\":\"Figure 2: Potential Vehicles affected by Manufacturer\"},\"barmode\":\"relative\"},                        {\"responsive\": true}                    ).then(function(){\n",
       "                            \n",
       "var gd = document.getElementById('e708cbb1-1741-4d58-8ba8-56279725f4b9');\n",
       "var x = new MutationObserver(function (mutations, observer) {{\n",
       "        var display = window.getComputedStyle(gd).display;\n",
       "        if (!display || display === 'none') {{\n",
       "            console.log([gd, 'removed!']);\n",
       "            Plotly.purge(gd);\n",
       "            observer.disconnect();\n",
       "        }}\n",
       "}});\n",
       "\n",
       "// Listen for the removal of the full notebook cells\n",
       "var notebookContainer = gd.closest('#notebook-container');\n",
       "if (notebookContainer) {{\n",
       "    x.observe(notebookContainer, {childList: true});\n",
       "}}\n",
       "\n",
       "// Listen for the clearing of the current output cell\n",
       "var outputEl = gd.closest('.output');\n",
       "if (outputEl) {{\n",
       "    x.observe(outputEl, {childList: true});\n",
       "}}\n",
       "\n",
       "                        })                };                });            </script>        </div>"
      ]
     },
     "metadata": {},
     "output_type": "display_data"
    }
   ],
   "source": [
    "# total cars affected by each manufacturer\n",
    "total_cars_mfr = data.groupby(['MAKETXT','CAMPNO'])['POTAFF'].mean().groupby('MAKETXT').sum().sort_values(ascending=False)\n",
    "\n",
    "px.bar(x=total_cars_mfr.index, y=total_cars_mfr, title='Figure 2: Potential Vehicles affected by Manufacturer',\n",
    "      labels={'x':'', 'y':'# of Vehicles'})"
   ]
  },
  {
   "cell_type": "code",
   "execution_count": 6,
   "id": "b87ffdf7",
   "metadata": {
    "execution": {
     "iopub.execute_input": "2022-08-02T20:50:47.882873Z",
     "iopub.status.busy": "2022-08-02T20:50:47.882476Z",
     "iopub.status.idle": "2022-08-02T20:50:48.086596Z",
     "shell.execute_reply": "2022-08-02T20:50:48.085387Z"
    },
    "papermill": {
     "duration": 0.212617,
     "end_time": "2022-08-02T20:50:48.089434",
     "exception": false,
     "start_time": "2022-08-02T20:50:47.876817",
     "status": "completed"
    },
    "tags": []
   },
   "outputs": [
    {
     "data": {
      "text/html": [
       "<div>                            <div id=\"63224632-b0a2-4762-a89f-96b1afed0b0b\" class=\"plotly-graph-div\" style=\"height:525px; width:100%;\"></div>            <script type=\"text/javascript\">                require([\"plotly\"], function(Plotly) {                    window.PLOTLYENV=window.PLOTLYENV || {};                                    if (document.getElementById(\"63224632-b0a2-4762-a89f-96b1afed0b0b\")) {                    Plotly.newPlot(                        \"63224632-b0a2-4762-a89f-96b1afed0b0b\",                        [{\"hovertemplate\":\"MAKETXT=ACURA<br>=%{x}<br># of Recalls=%{y}<extra></extra>\",\"legendgroup\":\"ACURA\",\"line\":{\"color\":\"#636efa\",\"dash\":\"solid\"},\"marker\":{\"symbol\":\"circle\"},\"mode\":\"lines\",\"name\":\"ACURA\",\"orientation\":\"v\",\"showlegend\":true,\"x\":[1980,1981,1982,1983,1984,1985,1986,1987,1988,1989,1990,1991,1992,1993,1994,1995,1996,1997,1998,1999,2000,2001,2002,2003,2004,2005,2006,2007,2008,2009,2010,2011,2012,2013,2014,2015,2016,2017,2018,2019,2020,2021,2022],\"xaxis\":\"x\",\"y\":[null,null,null,null,null,null,null,1.0,1.0,null,2.0,2.0,1.0,null,1.0,1.0,1.0,2.0,2.0,2.0,null,4.0,5.0,2.0,3.0,4.0,11.0,3.0,3.0,2.0,4.0,1.0,4.0,8.0,7.0,5.0,5.0,5.0,8.0,12.0,4.0,2.0,null],\"yaxis\":\"y\",\"type\":\"scatter\"},{\"hovertemplate\":\"MAKETXT=AUDI<br>=%{x}<br># of Recalls=%{y}<extra></extra>\",\"legendgroup\":\"AUDI\",\"line\":{\"color\":\"#EF553B\",\"dash\":\"solid\"},\"marker\":{\"symbol\":\"circle\"},\"mode\":\"lines\",\"name\":\"AUDI\",\"orientation\":\"v\",\"showlegend\":true,\"x\":[1980,1981,1982,1983,1984,1985,1986,1987,1988,1989,1990,1991,1992,1993,1994,1995,1996,1997,1998,1999,2000,2001,2002,2003,2004,2005,2006,2007,2008,2009,2010,2011,2012,2013,2014,2015,2016,2017,2018,2019,2020,2021,2022],\"xaxis\":\"x\",\"y\":[1.0,1.0,1.0,2.0,null,1.0,2.0,6.0,null,1.0,2.0,2.0,null,2.0,null,null,4.0,4.0,2.0,4.0,5.0,5.0,1.0,1.0,3.0,2.0,8.0,3.0,3.0,3.0,null,4.0,1.0,2.0,3.0,6.0,15.0,16.0,16.0,15.0,16.0,16.0,13.0],\"yaxis\":\"y\",\"type\":\"scatter\"},{\"hovertemplate\":\"MAKETXT=BMW<br>=%{x}<br># of Recalls=%{y}<extra></extra>\",\"legendgroup\":\"BMW\",\"line\":{\"color\":\"#00cc96\",\"dash\":\"solid\"},\"marker\":{\"symbol\":\"circle\"},\"mode\":\"lines\",\"name\":\"BMW\",\"orientation\":\"v\",\"showlegend\":true,\"x\":[1980,1981,1982,1983,1984,1985,1986,1987,1988,1989,1990,1991,1992,1993,1994,1995,1996,1997,1998,1999,2000,2001,2002,2003,2004,2005,2006,2007,2008,2009,2010,2011,2012,2013,2014,2015,2016,2017,2018,2019,2020,2021,2022],\"xaxis\":\"x\",\"y\":[1.0,null,3.0,null,3.0,3.0,3.0,null,4.0,1.0,2.0,4.0,5.0,2.0,9.0,3.0,3.0,4.0,7.0,6.0,11.0,15.0,10.0,12.0,16.0,5.0,15.0,11.0,14.0,13.0,16.0,6.0,15.0,16.0,12.0,14.0,16.0,29.0,24.0,41.0,36.0,21.0,8.0],\"yaxis\":\"y\",\"type\":\"scatter\"},{\"hovertemplate\":\"MAKETXT=HONDA<br>=%{x}<br># of Recalls=%{y}<extra></extra>\",\"legendgroup\":\"HONDA\",\"line\":{\"color\":\"#ab63fa\",\"dash\":\"solid\"},\"marker\":{\"symbol\":\"circle\"},\"mode\":\"lines\",\"name\":\"HONDA\",\"orientation\":\"v\",\"showlegend\":true,\"x\":[1980,1981,1982,1983,1984,1985,1986,1987,1988,1989,1990,1991,1992,1993,1994,1995,1996,1997,1998,1999,2000,2001,2002,2003,2004,2005,2006,2007,2008,2009,2010,2011,2012,2013,2014,2015,2016,2017,2018,2019,2020,2021,2022],\"xaxis\":\"x\",\"y\":[1.0,1.0,1.0,4.0,4.0,2.0,2.0,3.0,4.0,3.0,2.0,2.0,2.0,3.0,3.0,3.0,5.0,4.0,5.0,7.0,9.0,8.0,11.0,7.0,19.0,13.0,14.0,15.0,6.0,6.0,13.0,17.0,16.0,12.0,12.0,19.0,17.0,16.0,20.0,22.0,18.0,14.0,4.0],\"yaxis\":\"y\",\"type\":\"scatter\"},{\"hovertemplate\":\"MAKETXT=HYUNDAI<br>=%{x}<br># of Recalls=%{y}<extra></extra>\",\"legendgroup\":\"HYUNDAI\",\"line\":{\"color\":\"#FFA15A\",\"dash\":\"solid\"},\"marker\":{\"symbol\":\"circle\"},\"mode\":\"lines\",\"name\":\"HYUNDAI\",\"orientation\":\"v\",\"showlegend\":true,\"x\":[1980,1981,1982,1983,1984,1985,1986,1987,1988,1989,1990,1991,1992,1993,1994,1995,1996,1997,1998,1999,2000,2001,2002,2003,2004,2005,2006,2007,2008,2009,2010,2011,2012,2013,2014,2015,2016,2017,2018,2019,2020,2021,2022],\"xaxis\":\"x\",\"y\":[null,null,null,null,null,null,1.0,1.0,null,1.0,3.0,null,1.0,3.0,3.0,4.0,1.0,1.0,1.0,2.0,7.0,5.0,6.0,9.0,5.0,11.0,5.0,1.0,10.0,9.0,6.0,7.0,4.0,9.0,10.0,12.0,16.0,15.0,8.0,7.0,14.0,18.0,15.0],\"yaxis\":\"y\",\"type\":\"scatter\"},{\"hovertemplate\":\"MAKETXT=INFINITI<br>=%{x}<br># of Recalls=%{y}<extra></extra>\",\"legendgroup\":\"INFINITI\",\"line\":{\"color\":\"#19d3f3\",\"dash\":\"solid\"},\"marker\":{\"symbol\":\"circle\"},\"mode\":\"lines\",\"name\":\"INFINITI\",\"orientation\":\"v\",\"showlegend\":true,\"x\":[1980,1981,1982,1983,1984,1985,1986,1987,1988,1989,1990,1991,1992,1993,1994,1995,1996,1997,1998,1999,2000,2001,2002,2003,2004,2005,2006,2007,2008,2009,2010,2011,2012,2013,2014,2015,2016,2017,2018,2019,2020,2021,2022],\"xaxis\":\"x\",\"y\":[null,null,null,null,null,null,null,null,null,null,null,null,null,null,null,2.0,1.0,2.0,2.0,1.0,1.0,1.0,5.0,5.0,1.0,3.0,6.0,1.0,4.0,2.0,8.0,4.0,4.0,5.0,8.0,6.0,5.0,6.0,3.0,2.0,4.0,8.0,1.0],\"yaxis\":\"y\",\"type\":\"scatter\"},{\"hovertemplate\":\"MAKETXT=JAGUAR<br>=%{x}<br># of Recalls=%{y}<extra></extra>\",\"legendgroup\":\"JAGUAR\",\"line\":{\"color\":\"#FF6692\",\"dash\":\"solid\"},\"marker\":{\"symbol\":\"circle\"},\"mode\":\"lines\",\"name\":\"JAGUAR\",\"orientation\":\"v\",\"showlegend\":true,\"x\":[1980,1981,1982,1983,1984,1985,1986,1987,1988,1989,1990,1991,1992,1993,1994,1995,1996,1997,1998,1999,2000,2001,2002,2003,2004,2005,2006,2007,2008,2009,2010,2011,2012,2013,2014,2015,2016,2017,2018,2019,2020,2021,2022],\"xaxis\":\"x\",\"y\":[1.0,1.0,1.0,null,1.0,1.0,null,3.0,1.0,2.0,5.0,1.0,1.0,1.0,null,1.0,null,1.0,2.0,1.0,2.0,null,null,2.0,6.0,2.0,6.0,1.0,2.0,4.0,2.0,2.0,2.0,2.0,10.0,4.0,8.0,8.0,6.0,4.0,3.0,5.0,1.0],\"yaxis\":\"y\",\"type\":\"scatter\"},{\"hovertemplate\":\"MAKETXT=KIA<br>=%{x}<br># of Recalls=%{y}<extra></extra>\",\"legendgroup\":\"KIA\",\"line\":{\"color\":\"#B6E880\",\"dash\":\"solid\"},\"marker\":{\"symbol\":\"circle\"},\"mode\":\"lines\",\"name\":\"KIA\",\"orientation\":\"v\",\"showlegend\":true,\"x\":[1980,1981,1982,1983,1984,1985,1986,1987,1988,1989,1990,1991,1992,1993,1994,1995,1996,1997,1998,1999,2000,2001,2002,2003,2004,2005,2006,2007,2008,2009,2010,2011,2012,2013,2014,2015,2016,2017,2018,2019,2020,2021,2022],\"xaxis\":\"x\",\"y\":[null,null,null,null,null,null,null,null,null,null,null,null,null,null,1.0,1.0,1.0,1.0,1.0,4.0,2.0,1.0,2.0,5.0,3.0,12.0,3.0,1.0,1.0,4.0,2.0,5.0,3.0,3.0,3.0,6.0,11.0,8.0,8.0,7.0,12.0,15.0,13.0],\"yaxis\":\"y\",\"type\":\"scatter\"},{\"hovertemplate\":\"MAKETXT=LAND ROVER<br>=%{x}<br># of Recalls=%{y}<extra></extra>\",\"legendgroup\":\"LAND ROVER\",\"line\":{\"color\":\"#FF97FF\",\"dash\":\"solid\"},\"marker\":{\"symbol\":\"circle\"},\"mode\":\"lines\",\"name\":\"LAND ROVER\",\"orientation\":\"v\",\"showlegend\":true,\"x\":[1980,1981,1982,1983,1984,1985,1986,1987,1988,1989,1990,1991,1992,1993,1994,1995,1996,1997,1998,1999,2000,2001,2002,2003,2004,2005,2006,2007,2008,2009,2010,2011,2012,2013,2014,2015,2016,2017,2018,2019,2020,2021,2022],\"xaxis\":\"x\",\"y\":[1.0,null,null,null,null,null,null,1.0,2.0,2.0,null,1.0,1.0,3.0,null,4.0,3.0,null,2.0,3.0,8.0,1.0,2.0,1.0,8.0,4.0,3.0,3.0,3.0,2.0,1.0,null,3.0,1.0,4.0,10.0,7.0,4.0,7.0,7.0,14.0,9.0,4.0],\"yaxis\":\"y\",\"type\":\"scatter\"},{\"hovertemplate\":\"MAKETXT=LEXUS<br>=%{x}<br># of Recalls=%{y}<extra></extra>\",\"legendgroup\":\"LEXUS\",\"line\":{\"color\":\"#FECB52\",\"dash\":\"solid\"},\"marker\":{\"symbol\":\"circle\"},\"mode\":\"lines\",\"name\":\"LEXUS\",\"orientation\":\"v\",\"showlegend\":true,\"x\":[1980,1981,1982,1983,1984,1985,1986,1987,1988,1989,1990,1991,1992,1993,1994,1995,1996,1997,1998,1999,2000,2001,2002,2003,2004,2005,2006,2007,2008,2009,2010,2011,2012,2013,2014,2015,2016,2017,2018,2019,2020,2021,2022],\"xaxis\":\"x\",\"y\":[null,null,null,null,null,null,null,null,null,null,2.0,null,1.0,null,1.0,1.0,null,1.0,2.0,4.0,null,2.0,null,2.0,5.0,1.0,7.0,2.0,1.0,5.0,8.0,7.0,3.0,5.0,4.0,4.0,9.0,5.0,7.0,5.0,3.0,1.0,2.0],\"yaxis\":\"y\",\"type\":\"scatter\"},{\"hovertemplate\":\"MAKETXT=MAZDA<br>=%{x}<br># of Recalls=%{y}<extra></extra>\",\"legendgroup\":\"MAZDA\",\"line\":{\"color\":\"#636efa\",\"dash\":\"solid\"},\"marker\":{\"symbol\":\"circle\"},\"mode\":\"lines\",\"name\":\"MAZDA\",\"orientation\":\"v\",\"showlegend\":true,\"x\":[1980,1981,1982,1983,1984,1985,1986,1987,1988,1989,1990,1991,1992,1993,1994,1995,1996,1997,1998,1999,2000,2001,2002,2003,2004,2005,2006,2007,2008,2009,2010,2011,2012,2013,2014,2015,2016,2017,2018,2019,2020,2021,2022],\"xaxis\":\"x\",\"y\":[null,null,null,1.0,1.0,2.0,1.0,3.0,3.0,1.0,2.0,6.0,4.0,2.0,3.0,6.0,4.0,4.0,6.0,4.0,19.0,2.0,3.0,5.0,12.0,5.0,8.0,6.0,1.0,9.0,3.0,2.0,2.0,1.0,7.0,5.0,12.0,13.0,10.0,15.0,3.0,7.0,null],\"yaxis\":\"y\",\"type\":\"scatter\"},{\"hovertemplate\":\"MAKETXT=MERCEDES<br>=%{x}<br># of Recalls=%{y}<extra></extra>\",\"legendgroup\":\"MERCEDES\",\"line\":{\"color\":\"#EF553B\",\"dash\":\"solid\"},\"marker\":{\"symbol\":\"circle\"},\"mode\":\"lines\",\"name\":\"MERCEDES\",\"orientation\":\"v\",\"showlegend\":true,\"x\":[1980,1981,1982,1983,1984,1985,1986,1987,1988,1989,1990,1991,1992,1993,1994,1995,1996,1997,1998,1999,2000,2001,2002,2003,2004,2005,2006,2007,2008,2009,2010,2011,2012,2013,2014,2015,2016,2017,2018,2019,2020,2021,2022],\"xaxis\":\"x\",\"y\":[null,null,null,null,null,null,null,null,null,null,null,null,null,null,null,null,null,null,null,null,null,null,null,null,null,null,null,null,null,1.0,null,null,null,null,null,null,null,null,null,null,null,null,null],\"yaxis\":\"y\",\"type\":\"scatter\"},{\"hovertemplate\":\"MAKETXT=MINI<br>=%{x}<br># of Recalls=%{y}<extra></extra>\",\"legendgroup\":\"MINI\",\"line\":{\"color\":\"#00cc96\",\"dash\":\"solid\"},\"marker\":{\"symbol\":\"circle\"},\"mode\":\"lines\",\"name\":\"MINI\",\"orientation\":\"v\",\"showlegend\":true,\"x\":[1980,1981,1982,1983,1984,1985,1986,1987,1988,1989,1990,1991,1992,1993,1994,1995,1996,1997,1998,1999,2000,2001,2002,2003,2004,2005,2006,2007,2008,2009,2010,2011,2012,2013,2014,2015,2016,2017,2018,2019,2020,2021,2022],\"xaxis\":\"x\",\"y\":[null,null,null,null,null,null,null,null,null,null,null,null,null,null,null,null,null,null,null,null,null,null,1.0,1.0,1.0,1.0,null,1.0,3.0,3.0,null,1.0,1.0,null,4.0,7.0,3.0,2.0,3.0,2.0,3.0,1.0,null],\"yaxis\":\"y\",\"type\":\"scatter\"},{\"hovertemplate\":\"MAKETXT=MOPAR<br>=%{x}<br># of Recalls=%{y}<extra></extra>\",\"legendgroup\":\"MOPAR\",\"line\":{\"color\":\"#ab63fa\",\"dash\":\"solid\"},\"marker\":{\"symbol\":\"circle\"},\"mode\":\"lines\",\"name\":\"MOPAR\",\"orientation\":\"v\",\"showlegend\":true,\"x\":[1980,1981,1982,1983,1984,1985,1986,1987,1988,1989,1990,1991,1992,1993,1994,1995,1996,1997,1998,1999,2000,2001,2002,2003,2004,2005,2006,2007,2008,2009,2010,2011,2012,2013,2014,2015,2016,2017,2018,2019,2020,2021,2022],\"xaxis\":\"x\",\"y\":[null,null,null,null,null,null,null,null,null,null,null,null,null,null,null,null,null,null,null,null,null,null,null,null,null,null,1.0,null,null,1.0,null,null,null,null,null,null,null,null,3.0,3.0,5.0,4.0,4.0],\"yaxis\":\"y\",\"type\":\"scatter\"},{\"hovertemplate\":\"MAKETXT=NISSAN<br>=%{x}<br># of Recalls=%{y}<extra></extra>\",\"legendgroup\":\"NISSAN\",\"line\":{\"color\":\"#FFA15A\",\"dash\":\"solid\"},\"marker\":{\"symbol\":\"circle\"},\"mode\":\"lines\",\"name\":\"NISSAN\",\"orientation\":\"v\",\"showlegend\":true,\"x\":[1980,1981,1982,1983,1984,1985,1986,1987,1988,1989,1990,1991,1992,1993,1994,1995,1996,1997,1998,1999,2000,2001,2002,2003,2004,2005,2006,2007,2008,2009,2010,2011,2012,2013,2014,2015,2016,2017,2018,2019,2020,2021,2022],\"xaxis\":\"x\",\"y\":[3.0,1.0,3.0,3.0,2.0,2.0,2.0,3.0,1.0,1.0,2.0,1.0,4.0,1.0,6.0,7.0,6.0,3.0,7.0,3.0,6.0,6.0,12.0,9.0,7.0,9.0,16.0,16.0,11.0,8.0,18.0,9.0,10.0,14.0,12.0,19.0,16.0,13.0,9.0,8.0,10.0,23.0,6.0],\"yaxis\":\"y\",\"type\":\"scatter\"},{\"hovertemplate\":\"MAKETXT=PORSCHE<br>=%{x}<br># of Recalls=%{y}<extra></extra>\",\"legendgroup\":\"PORSCHE\",\"line\":{\"color\":\"#19d3f3\",\"dash\":\"solid\"},\"marker\":{\"symbol\":\"circle\"},\"mode\":\"lines\",\"name\":\"PORSCHE\",\"orientation\":\"v\",\"showlegend\":true,\"x\":[1980,1981,1982,1983,1984,1985,1986,1987,1988,1989,1990,1991,1992,1993,1994,1995,1996,1997,1998,1999,2000,2001,2002,2003,2004,2005,2006,2007,2008,2009,2010,2011,2012,2013,2014,2015,2016,2017,2018,2019,2020,2021,2022],\"xaxis\":\"x\",\"y\":[null,1.0,2.0,1.0,null,4.0,1.0,1.0,null,2.0,2.0,2.0,4.0,3.0,1.0,null,3.0,null,3.0,1.0,1.0,2.0,null,5.0,8.0,null,1.0,1.0,1.0,2.0,2.0,3.0,4.0,5.0,6.0,3.0,6.0,8.0,7.0,14.0,5.0,17.0,5.0],\"yaxis\":\"y\",\"type\":\"scatter\"},{\"hovertemplate\":\"MAKETXT=SUBARU<br>=%{x}<br># of Recalls=%{y}<extra></extra>\",\"legendgroup\":\"SUBARU\",\"line\":{\"color\":\"#FF6692\",\"dash\":\"solid\"},\"marker\":{\"symbol\":\"circle\"},\"mode\":\"lines\",\"name\":\"SUBARU\",\"orientation\":\"v\",\"showlegend\":true,\"x\":[1980,1981,1982,1983,1984,1985,1986,1987,1988,1989,1990,1991,1992,1993,1994,1995,1996,1997,1998,1999,2000,2001,2002,2003,2004,2005,2006,2007,2008,2009,2010,2011,2012,2013,2014,2015,2016,2017,2018,2019,2020,2021,2022],\"xaxis\":\"x\",\"y\":[1.0,1.0,2.0,3.0,2.0,1.0,null,null,2.0,2.0,3.0,3.0,2.0,1.0,1.0,1.0,null,1.0,5.0,2.0,5.0,2.0,4.0,4.0,4.0,1.0,2.0,1.0,4.0,5.0,4.0,3.0,4.0,8.0,4.0,5.0,11.0,7.0,8.0,18.0,6.0,7.0,3.0],\"yaxis\":\"y\",\"type\":\"scatter\"},{\"hovertemplate\":\"MAKETXT=TOYOTA<br>=%{x}<br># of Recalls=%{y}<extra></extra>\",\"legendgroup\":\"TOYOTA\",\"line\":{\"color\":\"#B6E880\",\"dash\":\"solid\"},\"marker\":{\"symbol\":\"circle\"},\"mode\":\"lines\",\"name\":\"TOYOTA\",\"orientation\":\"v\",\"showlegend\":true,\"x\":[1980,1981,1982,1983,1984,1985,1986,1987,1988,1989,1990,1991,1992,1993,1994,1995,1996,1997,1998,1999,2000,2001,2002,2003,2004,2005,2006,2007,2008,2009,2010,2011,2012,2013,2014,2015,2016,2017,2018,2019,2020,2021,2022],\"xaxis\":\"x\",\"y\":[2.0,2.0,null,1.0,1.0,null,3.0,null,2.0,3.0,2.0,2.0,5.0,3.0,2.0,1.0,5.0,4.0,4.0,2.0,6.0,9.0,5.0,6.0,7.0,11.0,14.0,6.0,6.0,13.0,17.0,14.0,12.0,16.0,22.0,23.0,23.0,18.0,21.0,23.0,17.0,12.0,12.0],\"yaxis\":\"y\",\"type\":\"scatter\"},{\"hovertemplate\":\"MAKETXT=VOLKSWAGEN<br>=%{x}<br># of Recalls=%{y}<extra></extra>\",\"legendgroup\":\"VOLKSWAGEN\",\"line\":{\"color\":\"#FF97FF\",\"dash\":\"solid\"},\"marker\":{\"symbol\":\"circle\"},\"mode\":\"lines\",\"name\":\"VOLKSWAGEN\",\"orientation\":\"v\",\"showlegend\":true,\"x\":[1980,1981,1982,1983,1984,1985,1986,1987,1988,1989,1990,1991,1992,1993,1994,1995,1996,1997,1998,1999,2000,2001,2002,2003,2004,2005,2006,2007,2008,2009,2010,2011,2012,2013,2014,2015,2016,2017,2018,2019,2020,2021,2022],\"xaxis\":\"x\",\"y\":[7.0,6.0,1.0,2.0,5.0,5.0,2.0,10.0,6.0,1.0,4.0,6.0,4.0,5.0,2.0,4.0,2.0,1.0,5.0,3.0,4.0,1.0,5.0,7.0,5.0,3.0,9.0,6.0,7.0,8.0,2.0,8.0,4.0,2.0,11.0,9.0,14.0,13.0,20.0,15.0,16.0,19.0,9.0],\"yaxis\":\"y\",\"type\":\"scatter\"},{\"hovertemplate\":\"MAKETXT=VOLVO<br>=%{x}<br># of Recalls=%{y}<extra></extra>\",\"legendgroup\":\"VOLVO\",\"line\":{\"color\":\"#FECB52\",\"dash\":\"solid\"},\"marker\":{\"symbol\":\"circle\"},\"mode\":\"lines\",\"name\":\"VOLVO\",\"orientation\":\"v\",\"showlegend\":true,\"x\":[1980,1981,1982,1983,1984,1985,1986,1987,1988,1989,1990,1991,1992,1993,1994,1995,1996,1997,1998,1999,2000,2001,2002,2003,2004,2005,2006,2007,2008,2009,2010,2011,2012,2013,2014,2015,2016,2017,2018,2019,2020,2021,2022],\"xaxis\":\"x\",\"y\":[2.0,4.0,2.0,1.0,4.0,2.0,6.0,3.0,3.0,4.0,2.0,4.0,3.0,2.0,3.0,8.0,9.0,8.0,6.0,11.0,9.0,13.0,13.0,16.0,12.0,7.0,9.0,15.0,7.0,9.0,14.0,10.0,7.0,10.0,6.0,13.0,11.0,5.0,8.0,11.0,10.0,14.0,3.0],\"yaxis\":\"y\",\"type\":\"scatter\"}],                        {\"template\":{\"data\":{\"histogram2dcontour\":[{\"type\":\"histogram2dcontour\",\"colorbar\":{\"outlinewidth\":0,\"ticks\":\"\"},\"colorscale\":[[0.0,\"#0d0887\"],[0.1111111111111111,\"#46039f\"],[0.2222222222222222,\"#7201a8\"],[0.3333333333333333,\"#9c179e\"],[0.4444444444444444,\"#bd3786\"],[0.5555555555555556,\"#d8576b\"],[0.6666666666666666,\"#ed7953\"],[0.7777777777777778,\"#fb9f3a\"],[0.8888888888888888,\"#fdca26\"],[1.0,\"#f0f921\"]]}],\"choropleth\":[{\"type\":\"choropleth\",\"colorbar\":{\"outlinewidth\":0,\"ticks\":\"\"}}],\"histogram2d\":[{\"type\":\"histogram2d\",\"colorbar\":{\"outlinewidth\":0,\"ticks\":\"\"},\"colorscale\":[[0.0,\"#0d0887\"],[0.1111111111111111,\"#46039f\"],[0.2222222222222222,\"#7201a8\"],[0.3333333333333333,\"#9c179e\"],[0.4444444444444444,\"#bd3786\"],[0.5555555555555556,\"#d8576b\"],[0.6666666666666666,\"#ed7953\"],[0.7777777777777778,\"#fb9f3a\"],[0.8888888888888888,\"#fdca26\"],[1.0,\"#f0f921\"]]}],\"heatmap\":[{\"type\":\"heatmap\",\"colorbar\":{\"outlinewidth\":0,\"ticks\":\"\"},\"colorscale\":[[0.0,\"#0d0887\"],[0.1111111111111111,\"#46039f\"],[0.2222222222222222,\"#7201a8\"],[0.3333333333333333,\"#9c179e\"],[0.4444444444444444,\"#bd3786\"],[0.5555555555555556,\"#d8576b\"],[0.6666666666666666,\"#ed7953\"],[0.7777777777777778,\"#fb9f3a\"],[0.8888888888888888,\"#fdca26\"],[1.0,\"#f0f921\"]]}],\"heatmapgl\":[{\"type\":\"heatmapgl\",\"colorbar\":{\"outlinewidth\":0,\"ticks\":\"\"},\"colorscale\":[[0.0,\"#0d0887\"],[0.1111111111111111,\"#46039f\"],[0.2222222222222222,\"#7201a8\"],[0.3333333333333333,\"#9c179e\"],[0.4444444444444444,\"#bd3786\"],[0.5555555555555556,\"#d8576b\"],[0.6666666666666666,\"#ed7953\"],[0.7777777777777778,\"#fb9f3a\"],[0.8888888888888888,\"#fdca26\"],[1.0,\"#f0f921\"]]}],\"contourcarpet\":[{\"type\":\"contourcarpet\",\"colorbar\":{\"outlinewidth\":0,\"ticks\":\"\"}}],\"contour\":[{\"type\":\"contour\",\"colorbar\":{\"outlinewidth\":0,\"ticks\":\"\"},\"colorscale\":[[0.0,\"#0d0887\"],[0.1111111111111111,\"#46039f\"],[0.2222222222222222,\"#7201a8\"],[0.3333333333333333,\"#9c179e\"],[0.4444444444444444,\"#bd3786\"],[0.5555555555555556,\"#d8576b\"],[0.6666666666666666,\"#ed7953\"],[0.7777777777777778,\"#fb9f3a\"],[0.8888888888888888,\"#fdca26\"],[1.0,\"#f0f921\"]]}],\"surface\":[{\"type\":\"surface\",\"colorbar\":{\"outlinewidth\":0,\"ticks\":\"\"},\"colorscale\":[[0.0,\"#0d0887\"],[0.1111111111111111,\"#46039f\"],[0.2222222222222222,\"#7201a8\"],[0.3333333333333333,\"#9c179e\"],[0.4444444444444444,\"#bd3786\"],[0.5555555555555556,\"#d8576b\"],[0.6666666666666666,\"#ed7953\"],[0.7777777777777778,\"#fb9f3a\"],[0.8888888888888888,\"#fdca26\"],[1.0,\"#f0f921\"]]}],\"mesh3d\":[{\"type\":\"mesh3d\",\"colorbar\":{\"outlinewidth\":0,\"ticks\":\"\"}}],\"scatter\":[{\"fillpattern\":{\"fillmode\":\"overlay\",\"size\":10,\"solidity\":0.2},\"type\":\"scatter\"}],\"parcoords\":[{\"type\":\"parcoords\",\"line\":{\"colorbar\":{\"outlinewidth\":0,\"ticks\":\"\"}}}],\"scatterpolargl\":[{\"type\":\"scatterpolargl\",\"marker\":{\"colorbar\":{\"outlinewidth\":0,\"ticks\":\"\"}}}],\"bar\":[{\"error_x\":{\"color\":\"#2a3f5f\"},\"error_y\":{\"color\":\"#2a3f5f\"},\"marker\":{\"line\":{\"color\":\"#E5ECF6\",\"width\":0.5},\"pattern\":{\"fillmode\":\"overlay\",\"size\":10,\"solidity\":0.2}},\"type\":\"bar\"}],\"scattergeo\":[{\"type\":\"scattergeo\",\"marker\":{\"colorbar\":{\"outlinewidth\":0,\"ticks\":\"\"}}}],\"scatterpolar\":[{\"type\":\"scatterpolar\",\"marker\":{\"colorbar\":{\"outlinewidth\":0,\"ticks\":\"\"}}}],\"histogram\":[{\"marker\":{\"pattern\":{\"fillmode\":\"overlay\",\"size\":10,\"solidity\":0.2}},\"type\":\"histogram\"}],\"scattergl\":[{\"type\":\"scattergl\",\"marker\":{\"colorbar\":{\"outlinewidth\":0,\"ticks\":\"\"}}}],\"scatter3d\":[{\"type\":\"scatter3d\",\"line\":{\"colorbar\":{\"outlinewidth\":0,\"ticks\":\"\"}},\"marker\":{\"colorbar\":{\"outlinewidth\":0,\"ticks\":\"\"}}}],\"scattermapbox\":[{\"type\":\"scattermapbox\",\"marker\":{\"colorbar\":{\"outlinewidth\":0,\"ticks\":\"\"}}}],\"scatterternary\":[{\"type\":\"scatterternary\",\"marker\":{\"colorbar\":{\"outlinewidth\":0,\"ticks\":\"\"}}}],\"scattercarpet\":[{\"type\":\"scattercarpet\",\"marker\":{\"colorbar\":{\"outlinewidth\":0,\"ticks\":\"\"}}}],\"carpet\":[{\"aaxis\":{\"endlinecolor\":\"#2a3f5f\",\"gridcolor\":\"white\",\"linecolor\":\"white\",\"minorgridcolor\":\"white\",\"startlinecolor\":\"#2a3f5f\"},\"baxis\":{\"endlinecolor\":\"#2a3f5f\",\"gridcolor\":\"white\",\"linecolor\":\"white\",\"minorgridcolor\":\"white\",\"startlinecolor\":\"#2a3f5f\"},\"type\":\"carpet\"}],\"table\":[{\"cells\":{\"fill\":{\"color\":\"#EBF0F8\"},\"line\":{\"color\":\"white\"}},\"header\":{\"fill\":{\"color\":\"#C8D4E3\"},\"line\":{\"color\":\"white\"}},\"type\":\"table\"}],\"barpolar\":[{\"marker\":{\"line\":{\"color\":\"#E5ECF6\",\"width\":0.5},\"pattern\":{\"fillmode\":\"overlay\",\"size\":10,\"solidity\":0.2}},\"type\":\"barpolar\"}],\"pie\":[{\"automargin\":true,\"type\":\"pie\"}]},\"layout\":{\"autotypenumbers\":\"strict\",\"colorway\":[\"#636efa\",\"#EF553B\",\"#00cc96\",\"#ab63fa\",\"#FFA15A\",\"#19d3f3\",\"#FF6692\",\"#B6E880\",\"#FF97FF\",\"#FECB52\"],\"font\":{\"color\":\"#2a3f5f\"},\"hovermode\":\"closest\",\"hoverlabel\":{\"align\":\"left\"},\"paper_bgcolor\":\"white\",\"plot_bgcolor\":\"#E5ECF6\",\"polar\":{\"bgcolor\":\"#E5ECF6\",\"angularaxis\":{\"gridcolor\":\"white\",\"linecolor\":\"white\",\"ticks\":\"\"},\"radialaxis\":{\"gridcolor\":\"white\",\"linecolor\":\"white\",\"ticks\":\"\"}},\"ternary\":{\"bgcolor\":\"#E5ECF6\",\"aaxis\":{\"gridcolor\":\"white\",\"linecolor\":\"white\",\"ticks\":\"\"},\"baxis\":{\"gridcolor\":\"white\",\"linecolor\":\"white\",\"ticks\":\"\"},\"caxis\":{\"gridcolor\":\"white\",\"linecolor\":\"white\",\"ticks\":\"\"}},\"coloraxis\":{\"colorbar\":{\"outlinewidth\":0,\"ticks\":\"\"}},\"colorscale\":{\"sequential\":[[0.0,\"#0d0887\"],[0.1111111111111111,\"#46039f\"],[0.2222222222222222,\"#7201a8\"],[0.3333333333333333,\"#9c179e\"],[0.4444444444444444,\"#bd3786\"],[0.5555555555555556,\"#d8576b\"],[0.6666666666666666,\"#ed7953\"],[0.7777777777777778,\"#fb9f3a\"],[0.8888888888888888,\"#fdca26\"],[1.0,\"#f0f921\"]],\"sequentialminus\":[[0.0,\"#0d0887\"],[0.1111111111111111,\"#46039f\"],[0.2222222222222222,\"#7201a8\"],[0.3333333333333333,\"#9c179e\"],[0.4444444444444444,\"#bd3786\"],[0.5555555555555556,\"#d8576b\"],[0.6666666666666666,\"#ed7953\"],[0.7777777777777778,\"#fb9f3a\"],[0.8888888888888888,\"#fdca26\"],[1.0,\"#f0f921\"]],\"diverging\":[[0,\"#8e0152\"],[0.1,\"#c51b7d\"],[0.2,\"#de77ae\"],[0.3,\"#f1b6da\"],[0.4,\"#fde0ef\"],[0.5,\"#f7f7f7\"],[0.6,\"#e6f5d0\"],[0.7,\"#b8e186\"],[0.8,\"#7fbc41\"],[0.9,\"#4d9221\"],[1,\"#276419\"]]},\"xaxis\":{\"gridcolor\":\"white\",\"linecolor\":\"white\",\"ticks\":\"\",\"title\":{\"standoff\":15},\"zerolinecolor\":\"white\",\"automargin\":true,\"zerolinewidth\":2},\"yaxis\":{\"gridcolor\":\"white\",\"linecolor\":\"white\",\"ticks\":\"\",\"title\":{\"standoff\":15},\"zerolinecolor\":\"white\",\"automargin\":true,\"zerolinewidth\":2},\"scene\":{\"xaxis\":{\"backgroundcolor\":\"#E5ECF6\",\"gridcolor\":\"white\",\"linecolor\":\"white\",\"showbackground\":true,\"ticks\":\"\",\"zerolinecolor\":\"white\",\"gridwidth\":2},\"yaxis\":{\"backgroundcolor\":\"#E5ECF6\",\"gridcolor\":\"white\",\"linecolor\":\"white\",\"showbackground\":true,\"ticks\":\"\",\"zerolinecolor\":\"white\",\"gridwidth\":2},\"zaxis\":{\"backgroundcolor\":\"#E5ECF6\",\"gridcolor\":\"white\",\"linecolor\":\"white\",\"showbackground\":true,\"ticks\":\"\",\"zerolinecolor\":\"white\",\"gridwidth\":2}},\"shapedefaults\":{\"line\":{\"color\":\"#2a3f5f\"}},\"annotationdefaults\":{\"arrowcolor\":\"#2a3f5f\",\"arrowhead\":0,\"arrowwidth\":1},\"geo\":{\"bgcolor\":\"white\",\"landcolor\":\"#E5ECF6\",\"subunitcolor\":\"white\",\"showland\":true,\"showlakes\":true,\"lakecolor\":\"white\"},\"title\":{\"x\":0.05},\"mapbox\":{\"style\":\"light\"}}},\"xaxis\":{\"anchor\":\"y\",\"domain\":[0.0,1.0],\"title\":{\"text\":\"\"}},\"yaxis\":{\"anchor\":\"x\",\"domain\":[0.0,1.0],\"title\":{\"text\":\"# of Recalls\"}},\"legend\":{\"title\":{\"text\":\"MAKETXT\"},\"tracegroupgap\":0},\"title\":{\"text\":\"Figure 3: Yearly Recalls by Manufacturer\"}},                        {\"responsive\": true}                    ).then(function(){\n",
       "                            \n",
       "var gd = document.getElementById('63224632-b0a2-4762-a89f-96b1afed0b0b');\n",
       "var x = new MutationObserver(function (mutations, observer) {{\n",
       "        var display = window.getComputedStyle(gd).display;\n",
       "        if (!display || display === 'none') {{\n",
       "            console.log([gd, 'removed!']);\n",
       "            Plotly.purge(gd);\n",
       "            observer.disconnect();\n",
       "        }}\n",
       "}});\n",
       "\n",
       "// Listen for the removal of the full notebook cells\n",
       "var notebookContainer = gd.closest('#notebook-container');\n",
       "if (notebookContainer) {{\n",
       "    x.observe(notebookContainer, {childList: true});\n",
       "}}\n",
       "\n",
       "// Listen for the clearing of the current output cell\n",
       "var outputEl = gd.closest('.output');\n",
       "if (outputEl) {{\n",
       "    x.observe(outputEl, {childList: true});\n",
       "}}\n",
       "\n",
       "                        })                };                });            </script>        </div>"
      ]
     },
     "metadata": {},
     "output_type": "display_data"
    }
   ],
   "source": [
    "# group yearly trends\n",
    "yearly_camps_mfr = data.groupby([data.DATEA.dt.year, data.MAKETXT])['CAMPNO'].nunique()\n",
    "\n",
    "# plot yearly trends\n",
    "px.line(yearly_camps_mfr.unstack(level=1)[1:], title='Figure 3: Yearly Recalls by Manufacturer', labels={'DATEA':'', 'value':'# of Recalls'})"
   ]
  }
 ],
 "metadata": {
  "kernelspec": {
   "display_name": "Python 3",
   "language": "python",
   "name": "python3"
  },
  "language_info": {
   "codemirror_mode": {
    "name": "ipython",
    "version": 3
   },
   "file_extension": ".py",
   "mimetype": "text/x-python",
   "name": "python",
   "nbconvert_exporter": "python",
   "pygments_lexer": "ipython3",
   "version": "3.7.12"
  },
  "papermill": {
   "default_parameters": {},
   "duration": 20.940577,
   "end_time": "2022-08-02T20:50:49.017277",
   "environment_variables": {},
   "exception": null,
   "input_path": "__notebook__.ipynb",
   "output_path": "__notebook__.ipynb",
   "parameters": {},
   "start_time": "2022-08-02T20:50:28.076700",
   "version": "2.3.4"
  }
 },
 "nbformat": 4,
 "nbformat_minor": 5
}
